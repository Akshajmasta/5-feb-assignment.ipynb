{
 "cells": [
  {
   "cell_type": "markdown",
   "id": "d0293f63-85ba-4e3f-bd63-43e5168a982a",
   "metadata": {},
   "source": []
  },
  {
   "cell_type": "markdown",
   "id": "504cb95f-9e64-4588-a2dd-3bd9d34e1ef7",
   "metadata": {},
   "source": [
    "ANSWER 1"
   ]
  },
  {
   "cell_type": "markdown",
   "id": "ed412523-3ed5-454d-b20e-4889abaaeca7",
   "metadata": {},
   "source": [
    " In Object-Oriented Programming (OOP), a class is a blueprint or a template that defines the properties and behaviors of an object. An object, on the other hand, is an instance of a class that contains specific values for the properties defined in the class.\n",
    "\n",
    "For example, consider the class \"Car,\" which may have properties such as \"make,\" \"model,\" \"year,\" and \"color,\" as well as behaviors such as \"start,\" \"drive,\" and \"stop.\" An object of this class could be \"myCar,\" which has specific values for the properties, such as \"make = Toyota,\" \"model = Camry,\" \"year = 2021,\" and \"color = blue.\" The behaviors of the \"myCar\" object could be called by invoking the methods defined in the \"Car\" class, such as \"myCar.start()\" or \"myCar.drive()\"."
   ]
  },
  {
   "cell_type": "markdown",
   "id": "1f1c53fc-d047-48a4-8801-19dd6ae259f1",
   "metadata": {},
   "source": [
    "ANSWER 2"
   ]
  },
  {
   "cell_type": "markdown",
   "id": "92d5ab69-8d10-49d6-b88a-84e92affc872",
   "metadata": {},
   "source": [
    "The four pillars of OOPs are:\n",
    "\n",
    " 1 Encapsulation: the concept of bundling data and methods that operate on that data within a single unit, called a class, to protect the data from external interference and misuse.\n",
    "2 Abstraction: the concept of representing complex real-world problems in a simplified way by hiding unnecessary implementation details and exposing only the essential features of the problem.\n",
    "3 Inheritance: the concept of deriving new classes from existing classes to reuse the code and enhance the functionality of the program.\n",
    "4 Polymorphism: the concept of allowing objects of different classes to be treated as if they belong to a common class hierarchy, thus enabling the same method to be used for different objects."
   ]
  },
  {
   "cell_type": "markdown",
   "id": "76da334b-3d57-4f9a-aa21-f7afc6a13fea",
   "metadata": {},
   "source": [
    "ANSWER3"
   ]
  },
  {
   "cell_type": "markdown",
   "id": "b0d8ea48-b0b2-4a12-acb3-f0f12fa12a3f",
   "metadata": {},
   "source": [
    "The init() function is used to initialize the properties of an object when it is created. It is called a constructor because it is used to construct or create the object.\n",
    "\n",
    "For example, consider the class \"Rectangle,\" which has two properties, \"length\" and \"width.\" The init() function is used to initialize these properties with values passed as arguments when an object is created."
   ]
  },
  {
   "cell_type": "code",
   "execution_count": 1,
   "id": "186e11e1-eeba-4c0f-86ea-fe7d17ffbfd8",
   "metadata": {},
   "outputs": [],
   "source": [
    "class Rectangle:\n",
    "    def __init__(self, length, width):\n",
    "        self.length = length\n",
    "        self.width = width\n",
    "\n",
    "rect = Rectangle(10, 5) # Creating an object of Rectangle class with length=10 and width=5\n"
   ]
  },
  {
   "cell_type": "markdown",
   "id": "b54c143d-0575-4462-895b-2f3971b02a61",
   "metadata": {},
   "source": [
    " ANSWER 4  In OOPs, \"self\" is a reference to the current instance of a class. It is used to access the properties and methods of the object within the class.\n",
    "\n",
    "For example, consider the class \"Person\" with a method \"greet\" that takes a name as an argument and greets the person by name. In order to access the \"name\" property of the object within the \"greet\" method, the \"self\" keyword is used."
   ]
  },
  {
   "cell_type": "code",
   "execution_count": 3,
   "id": "b3e775b8-c777-48c6-b37d-e4907e7b2dce",
   "metadata": {},
   "outputs": [
    {
     "name": "stdout",
     "output_type": "stream",
     "text": [
      "Hello, ajay!\n"
     ]
    }
   ],
   "source": [
    "class Person:\n",
    "    def __init__(self, name):\n",
    "        self.name = name\n",
    "\n",
    "    def greet(self):\n",
    "        print(\"Hello, \" + self.name + \"!\")\n",
    "\n",
    "person = Person(\"ajay\")\n",
    "person.greet() # Output: Hello, John!\n"
   ]
  },
  {
   "cell_type": "markdown",
   "id": "d8c3d076-78d6-42bc-9976-2586f9187a64",
   "metadata": {},
   "source": [
    "ANSWER 5"
   ]
  },
  {
   "cell_type": "markdown",
   "id": "2519d23a-544b-40c8-b558-96b7dbffebce",
   "metadata": {},
   "source": [
    "Inheritance is a mechanism in Object-Oriented Programming that allows a new class to be based on an existing class, inheriting its attributes and behaviors.\n",
    "\n",
    "There are four types of inheritance:\n",
    "\n",
    "* Single inheritance: A subclass inherits from a single parent class. For example, a class called \"Sedan\" could inherit from the \"Car\" class.\n",
    "* Multiple inheritance: A subclass inherits from multiple parent classes. For example, a class called \"Hybrid\" could inherit from both the \"ElectricCar\" class and the \"GasCar\" class.\n",
    "* Multi-level inheritance: A subclass inherits from a parent class, which itself inherits from another parent class. For example, a class called \"SportsCar\" could inherit from the \"Sedan\" class, which in turn inherits from the \"Car\" class.\n",
    "* Hierarchical inheritance: Multiple subclasses inherit from a single parent class. For example, a class called \"SUV\" and a class called \"Truck\" could both inherit from the \"Car\" class."
   ]
  },
  {
   "cell_type": "code",
   "execution_count": null,
   "id": "563b559d-7b11-4dbb-a845-ad0740a8eed9",
   "metadata": {},
   "outputs": [],
   "source": []
  }
 ],
 "metadata": {
  "kernelspec": {
   "display_name": "Python 3 (ipykernel)",
   "language": "python",
   "name": "python3"
  },
  "language_info": {
   "codemirror_mode": {
    "name": "ipython",
    "version": 3
   },
   "file_extension": ".py",
   "mimetype": "text/x-python",
   "name": "python",
   "nbconvert_exporter": "python",
   "pygments_lexer": "ipython3",
   "version": "3.10.8"
  }
 },
 "nbformat": 4,
 "nbformat_minor": 5
}
